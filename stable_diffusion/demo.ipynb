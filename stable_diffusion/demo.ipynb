{
 "cells": [
  {
   "cell_type": "code",
   "execution_count": 6,
   "id": "8471a512",
   "metadata": {},
   "outputs": [],
   "source": [
    "import model_loader\n",
    "import pipeline\n",
    "from PIL import Image\n",
    "from transformers import CLIPTokenizer\n",
    "import torch\n",
    "\n",
    "DEVICE = \"cuda\" if torch.cuda.is_available() else \"cpu\"\n",
    "\n"
   ]
  },
  {
   "cell_type": "code",
   "execution_count": null,
   "id": "a963cefe",
   "metadata": {},
   "outputs": [
    {
     "ename": "AttributeError",
     "evalue": "module 'model_converter' has no attribute 'load_from_standard_weight'",
     "output_type": "error",
     "traceback": [
      "\u001b[31m---------------------------------------------------------------------------\u001b[39m",
      "\u001b[31mAttributeError\u001b[39m                            Traceback (most recent call last)",
      "\u001b[36mCell\u001b[39m\u001b[36m \u001b[39m\u001b[32mIn[8]\u001b[39m\u001b[32m, line 3\u001b[39m\n\u001b[32m      1\u001b[39m tokenizer = CLIPTokenizer(\u001b[33m\"\u001b[39m\u001b[33m../dataa/vocab.json\u001b[39m\u001b[33m\"\u001b[39m, merges_file=\u001b[33m\"\u001b[39m\u001b[33m../dataa/merges.txt\u001b[39m\u001b[33m\"\u001b[39m)\n\u001b[32m      2\u001b[39m model_file = \u001b[33m\"\u001b[39m\u001b[33m../dataa/v1-5-pruned-emaonly.ckpt\u001b[39m\u001b[33m\"\u001b[39m\n\u001b[32m----> \u001b[39m\u001b[32m3\u001b[39m models = \u001b[43mmodel_loader\u001b[49m\u001b[43m.\u001b[49m\u001b[43mpreload_models_from_standard_weights\u001b[49m\u001b[43m(\u001b[49m\u001b[43mmodel_file\u001b[49m\u001b[43m,\u001b[49m\u001b[43m \u001b[49m\u001b[43mDEVICE\u001b[49m\u001b[43m)\u001b[49m\n\u001b[32m      5\u001b[39m \u001b[38;5;66;03m# text to image\u001b[39;00m\n\u001b[32m      6\u001b[39m prompt = \u001b[33m\"\u001b[39m\u001b[33mA beautiful painting of a futuristic cityscape at sunset\u001b[39m\u001b[33m\"\u001b[39m\n",
      "\u001b[36mFile \u001b[39m\u001b[32m~/work/diffusion/stable_diffusion/model_loader.py:8\u001b[39m, in \u001b[36mpreload_models_from_standard_weights\u001b[39m\u001b[34m(ckpt_path, device)\u001b[39m\n\u001b[32m      7\u001b[39m \u001b[38;5;28;01mdef\u001b[39;00m\u001b[38;5;250m \u001b[39m\u001b[34mpreload_models_from_standard_weights\u001b[39m(ckpt_path, device):\n\u001b[32m----> \u001b[39m\u001b[32m8\u001b[39m     state_dict = \u001b[43mmodel_converter\u001b[49m\u001b[43m.\u001b[49m\u001b[43mload_from_standard_weight\u001b[49m(ckpt_path, device)\n\u001b[32m     10\u001b[39m     encoder = VAE_Encoder().to(device)\n\u001b[32m     11\u001b[39m     encoder.load_state_dict(state_dict[\u001b[33m\"\u001b[39m\u001b[33mencoder\u001b[39m\u001b[33m\"\u001b[39m], strict=\u001b[38;5;28;01mTrue\u001b[39;00m)\n",
      "\u001b[31mAttributeError\u001b[39m: module 'model_converter' has no attribute 'load_from_standard_weight'"
     ]
    }
   ],
   "source": [
    "tokenizer = CLIPTokenizer(\"../dataa/vocab.json\", merges_file=\"../dataa/merges.txt\")\n",
    "model_file = \"../dataa/v1-5-pruned-emaonly.ckpt\"\n",
    "models = model_loader.preload_models_from_standard_weights(model_file, DEVICE)\n",
    "\n",
    "# text to image\n",
    "prompt = \"A beautiful painting of a futuristic cityscape at sunset\"\n",
    "uncond_prompt = \"\"\n",
    "do_cfg = True\n",
    "cfg_scale=7.5\n",
    "\n",
    "#image to image\n",
    "input_image = None\n",
    "image_path = \"../image/A-Cat.jpg\"\n",
    "# input_image = Image.open(image_path)\n",
    "\n",
    "strength = 0.7  # between 0 and 1\n",
    "\n",
    "sampler = \"ddpm\"\n",
    "num_inference_steps = 50\n",
    "seed = 42\n",
    "\n",
    "output_image = pipeline.generate(\n",
    "    prompt = prompt,\n",
    "    uncond_prompt = uncond_prompt,\n",
    "    input_image = input_image,\n",
    "    strength = strength,\n",
    "    do_cfg = do_cfg,\n",
    "    cfg_scale = cfg_scale,\n",
    "    sampler_name= sampler,\n",
    "    n_inference_steps = num_inference_steps,\n",
    "    seed = seed,\n",
    "    device = DEVICE,\n",
    "    idle_device=\"cpu\",\n",
    "    model = models,\n",
    "    tokenizer = tokenizer,\n",
    "\n",
    ")\n"
   ]
  },
  {
   "cell_type": "code",
   "execution_count": null,
   "id": "4d5fadb4",
   "metadata": {},
   "outputs": [],
   "source": []
  }
 ],
 "metadata": {
  "kernelspec": {
   "display_name": "diff",
   "language": "python",
   "name": "python3"
  },
  "language_info": {
   "codemirror_mode": {
    "name": "ipython",
    "version": 3
   },
   "file_extension": ".py",
   "mimetype": "text/x-python",
   "name": "python",
   "nbconvert_exporter": "python",
   "pygments_lexer": "ipython3",
   "version": "3.12.11"
  }
 },
 "nbformat": 4,
 "nbformat_minor": 5
}
